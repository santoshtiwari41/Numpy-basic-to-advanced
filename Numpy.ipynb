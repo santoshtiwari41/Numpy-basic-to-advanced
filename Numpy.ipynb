{
  "nbformat": 4,
  "nbformat_minor": 0,
  "metadata": {
    "colab": {
      "provenance": [],
      "authorship_tag": "ABX9TyPQd3THHWkX+Vr49DDUKPZf",
      "include_colab_link": true
    },
    "kernelspec": {
      "name": "python3",
      "display_name": "Python 3"
    },
    "language_info": {
      "name": "python"
    }
  },
  "cells": [
    {
      "cell_type": "markdown",
      "metadata": {
        "id": "view-in-github",
        "colab_type": "text"
      },
      "source": [
        "<a href=\"https://colab.research.google.com/github/santoshtiwari41/Numpy-basic-to-advanced/blob/main/Numpy.ipynb\" target=\"_parent\"><img src=\"https://colab.research.google.com/assets/colab-badge.svg\" alt=\"Open In Colab\"/></a>"
      ]
    },
    {
      "cell_type": "code",
      "execution_count": 8,
      "metadata": {
        "id": "TJj7UWx9Q97z"
      },
      "outputs": [],
      "source": [
        "#Basic to Advanced Numpy\n",
        "\n",
        "# Importing Numpy\n",
        "import numpy as np"
      ]
    },
    {
      "cell_type": "code",
      "source": [
        "#Creating Arrays\n",
        "# 1D Array\n",
        "array_1d = np.array([1, 2, 3, 4])\n",
        "print(array_1d)\n"
      ],
      "metadata": {
        "colab": {
          "base_uri": "https://localhost:8080/"
        },
        "id": "daqx7xjLRZWH",
        "outputId": "dba5140b-8c78-4a76-bda9-03ae365eaf24"
      },
      "execution_count": 5,
      "outputs": [
        {
          "output_type": "stream",
          "name": "stdout",
          "text": [
            "[1 2 3 4]\n"
          ]
        }
      ]
    },
    {
      "cell_type": "code",
      "source": [
        "# 2D Array\n",
        "array_2d = np.array([[1, 2], [3, 4]])\n",
        "print(array_2d)\n",
        "array_2d\n"
      ],
      "metadata": {
        "colab": {
          "base_uri": "https://localhost:8080/"
        },
        "id": "J0A-yZAYRxDh",
        "outputId": "859ff0fb-2560-4c12-da48-91f92d926643"
      },
      "execution_count": 4,
      "outputs": [
        {
          "output_type": "stream",
          "name": "stdout",
          "text": [
            "[[1 2]\n",
            " [3 4]]\n"
          ]
        },
        {
          "output_type": "execute_result",
          "data": {
            "text/plain": [
              "array([[1, 2],\n",
              "       [3, 4]])"
            ]
          },
          "metadata": {},
          "execution_count": 4
        }
      ]
    },
    {
      "cell_type": "code",
      "source": [
        "# Array Attributes\n",
        "print(array_2d.shape)  # Shape of the array\n",
        "print(array_2d.ndim)   # Number of dimensions\n",
        "print(array_2d.size)   # Total number of elements\n",
        "print(array_2d.dtype)  # Data type of elements"
      ],
      "metadata": {
        "colab": {
          "base_uri": "https://localhost:8080/"
        },
        "id": "wycVTzfsR3CU",
        "outputId": "9afa866b-b4bd-484d-d9d1-de722d0872ea"
      },
      "execution_count": 6,
      "outputs": [
        {
          "output_type": "stream",
          "name": "stdout",
          "text": [
            "(2, 2)\n",
            "2\n",
            "4\n",
            "int64\n"
          ]
        }
      ]
    },
    {
      "cell_type": "code",
      "source": [
        "# Array Initialization\n",
        "zeros = np.zeros((2, 3))  # 2x3 array of zeros\n",
        "ones = np.ones((3, 3))    # 3x3 array of ones\n",
        "full = np.full((2, 2), 7) # 2x2 array filled with 7\n",
        "identity = np.eye(3)      # 3x3 Identity matrix\n",
        "arange = np.arange(0, 10, 2) # Array from 0 to 10 with step 2\n",
        "linspace = np.linspace(0, 1, 5) # 5 equally spaced points from 0 to 1\n",
        "print('\\n 2x3 array of zeros \\n',zeros)\n",
        "print('\\n 3x3 array of ones\\n',ones)\n",
        "print('\\n 2x2 array filled with 7\\n',full)\n",
        "print('\\n 3x3 Identity matrix\\n',identity)\n",
        "print('\\n Array from 0 to 10 with step 2\\n',arange)\n",
        "print('\\n 5 equally spaced points from 0 to 1\\n',linspace)\n"
      ],
      "metadata": {
        "colab": {
          "base_uri": "https://localhost:8080/"
        },
        "id": "BNOM-sWoSKuz",
        "outputId": "c23d9b77-4e53-42f8-a29a-da41159279e7"
      },
      "execution_count": 19,
      "outputs": [
        {
          "output_type": "stream",
          "name": "stdout",
          "text": [
            "\n",
            " 2x3 array of zeros \n",
            " [[0. 0. 0.]\n",
            " [0. 0. 0.]]\n",
            "\n",
            " 3x3 array of ones\n",
            " [[1. 1. 1.]\n",
            " [1. 1. 1.]\n",
            " [1. 1. 1.]]\n",
            "\n",
            " 2x2 array filled with 7\n",
            " [[7 7]\n",
            " [7 7]]\n",
            "\n",
            " 3x3 Identity matrix\n",
            " [[1. 0. 0.]\n",
            " [0. 1. 0.]\n",
            " [0. 0. 1.]]\n",
            "\n",
            " Array from 0 to 10 with step 2\n",
            " [0 2 4 6 8]\n",
            "\n",
            " 5 equally spaced points from 0 to 1\n",
            " [0.   0.25 0.5  0.75 1.  ]\n"
          ]
        }
      ]
    },
    {
      "cell_type": "code",
      "source": [
        "# Random Arrays\n",
        "random_uniform = np.random.rand(2, 3)  # Random values in [0, 1)\n",
        "random_normal = np.random.randn(2, 3)  # Random values from normal distribution\n",
        "random_int = np.random.randint(0, 10, (2, 2))  # Random integers in [0, 10)\n",
        "print('\\n Random values in [0, 1) \\n',random_uniform)\n",
        "print('\\n Random values from normal distribution \\n ',random_normal)\n",
        "print('\\n Random integers in [0, 10) \\n ',random_int)"
      ],
      "metadata": {
        "colab": {
          "base_uri": "https://localhost:8080/"
        },
        "id": "PV0VEucpSaDB",
        "outputId": "deb799aa-60d5-4a87-be4e-d853ca66b433"
      },
      "execution_count": 23,
      "outputs": [
        {
          "output_type": "stream",
          "name": "stdout",
          "text": [
            "\n",
            " Random values in [0, 1) \n",
            " [[0.38794305 0.40898888 0.41813967]\n",
            " [0.94469189 0.94397193 0.01225869]]\n",
            "\n",
            " Random values from normal distribution \n",
            "  [[ 1.92679082  1.1523416  -0.41684816]\n",
            " [-1.87744047 -0.68714032 -0.59717432]]\n",
            "\n",
            " Random integers in [0, 10) \n",
            "  [[1 9]\n",
            " [1 8]]\n"
          ]
        }
      ]
    },
    {
      "cell_type": "code",
      "source": [
        "# Reshaping Arrays\n",
        "print('\\n above 1d array \\n ',array_1d)\n",
        "reshaped = np.reshape(array_1d, (2, 2))  # Reshape to 2x2\n",
        "flattened = array_2d.flatten()  # Flatten 2D to 1D\n",
        "print('\\n reshape to 2x2 \\n ',reshaped)\n",
        "print('\\n flatten 2d to 1d \\n',flattened)"
      ],
      "metadata": {
        "colab": {
          "base_uri": "https://localhost:8080/"
        },
        "id": "TxYsaFozWC5n",
        "outputId": "49250c07-55ae-4e55-f0d2-86004902a4e3"
      },
      "execution_count": 26,
      "outputs": [
        {
          "output_type": "stream",
          "name": "stdout",
          "text": [
            "\n",
            " above 1d array \n",
            "  [1 2 3 4]\n",
            "\n",
            " reshape to 2x2 \n",
            "  [[1 2]\n",
            " [3 4]]\n",
            "\n",
            " flatten 2d to 1d \n",
            " [1 2 3 4]\n"
          ]
        }
      ]
    },
    {
      "cell_type": "code",
      "source": [
        "# Stacking Arrays\n",
        "vstack = np.vstack((array_1d, array_1d,array_1d))  # Vertical stack\n",
        "hstack = np.hstack((array_1d, array_1d))  # Horizontal stack\n",
        "print('\\n vertical stack \\n ',vstack)\n",
        "print('\\n horizontal stack \\n',hstack)\n"
      ],
      "metadata": {
        "colab": {
          "base_uri": "https://localhost:8080/"
        },
        "id": "1DwMPYbEW4QJ",
        "outputId": "f58676ae-f81c-4d71-d8b9-cb41cc3dba33"
      },
      "execution_count": 30,
      "outputs": [
        {
          "output_type": "stream",
          "name": "stdout",
          "text": [
            "\n",
            " vertical stack \n",
            "  [[1 2 3 4]\n",
            " [1 2 3 4]\n",
            " [1 2 3 4]]\n",
            "\n",
            " horizontal stack \n",
            " [1 2 3 4 1 2 3 4]\n"
          ]
        }
      ]
    },
    {
      "cell_type": "code",
      "source": [
        "# Splitting Arrays\n",
        "split = np.split(array_1d, 2)  # Split array into 2 parts\n",
        "print('\\n after split \\n',split)\n",
        "print('\\n new arrays are \\n ',split[0],'\\t and ',split[1])\n"
      ],
      "metadata": {
        "colab": {
          "base_uri": "https://localhost:8080/"
        },
        "id": "yoqS2hgblcoS",
        "outputId": "14832c9e-2e88-4efc-e79a-964b78bea8f9"
      },
      "execution_count": 38,
      "outputs": [
        {
          "output_type": "stream",
          "name": "stdout",
          "text": [
            "\n",
            " after split \n",
            " [array([1, 2]), array([3, 4])]\n",
            "\n",
            " new arrays are \n",
            "  [1 2] \t and  [3 4]\n"
          ]
        }
      ]
    },
    {
      "cell_type": "code",
      "source": [
        "# Mathematical Operations\n",
        "array = np.array([1, 2, 3, 4])\n",
        "sum_result = np.sum(array)   # Sum of all elements\n",
        "mean_result = np.mean(array) # Mean of elements\n",
        "max_result = np.max(array)   # Maximum value\n",
        "min_result = np.min(array)   # Minimum value\n",
        "std_dev = np.std(array)      # Standard deviation\n",
        "print('\\n sum \\t:',sum_result)\n",
        "print('\\n mean \\t:',mean_result)\n",
        "print('\\n max value \\t:',max_result)\n",
        "print('\\n min value \\t:',min_result)\n",
        "print('\\n standard deviation \\t:', std_dev)\n"
      ],
      "metadata": {
        "colab": {
          "base_uri": "https://localhost:8080/"
        },
        "id": "y0QCCaNAl2mV",
        "outputId": "04a396aa-6306-4508-c404-2f2c88e01e51"
      },
      "execution_count": 40,
      "outputs": [
        {
          "output_type": "stream",
          "name": "stdout",
          "text": [
            "\n",
            " sum \t: 10\n",
            "\n",
            " mean \t: 2.5\n",
            "\n",
            " max value \t: 4\n",
            "\n",
            " min value \t: 1\n",
            "\n",
            " standard deviation \t: 1.118033988749895\n"
          ]
        }
      ]
    },
    {
      "cell_type": "code",
      "source": [
        "# Element-wise Operations\n",
        "array1 = np.array([1, 2, 3])\n",
        "array2 = np.array([4, 5, 6])\n",
        "addition = array1 + array2      # Element-wise addition\n",
        "multiplication = array1 * array2 # Element-wise multiplication\n",
        "dot_product = np.dot(array1, array2) # Dot product\n",
        "print('\\n element wise addition \\t:',addition)\n",
        "print('\\n element wise multiplication \\t:',multiplication)\n",
        "print('\\n dot product \\t:',dot_product)\n"
      ],
      "metadata": {
        "colab": {
          "base_uri": "https://localhost:8080/"
        },
        "id": "dAI3v4zFnyz5",
        "outputId": "7e50ffee-f9c3-4118-8979-30b715957d4a"
      },
      "execution_count": 42,
      "outputs": [
        {
          "output_type": "stream",
          "name": "stdout",
          "text": [
            "\n",
            " element wise addition \t: [5 7 9]\n",
            "\n",
            " element wise multiplication \t: [ 4 10 18]\n",
            "\n",
            " dot product \t: 32\n"
          ]
        }
      ]
    },
    {
      "cell_type": "code",
      "source": [
        "# Boolean Operations\n",
        "bool_array = array > 2  # Element-wise comparison\n",
        "any_true = np.any(bool_array)  # Check if any element is True\n",
        "all_true = np.all(bool_array)  # Check if all elements are True\n",
        "\n",
        "print('\\n check if any element is true \\t:',any_true)\n",
        "print('\\n check if alll elements are true \\t:',all_true)"
      ],
      "metadata": {
        "colab": {
          "base_uri": "https://localhost:8080/"
        },
        "id": "wRY3PEYepiNq",
        "outputId": "e55d3fe1-6fa9-479e-df1d-3a453a1aa5a2"
      },
      "execution_count": 44,
      "outputs": [
        {
          "output_type": "stream",
          "name": "stdout",
          "text": [
            "\n",
            " check if any element is true \t: True\n",
            "\n",
            " check if alll elements are true \t: False\n"
          ]
        }
      ]
    },
    {
      "cell_type": "code",
      "source": [
        "# Broadcasting\n",
        "x = np.array([1, 2, 3])\n",
        "y = np.array([[1], [2], [3]])\n",
        "broadcasted_sum = x + y  # Add with broadcasting\n",
        "print('\\n add with broadcasting \\t:',broadcasted_sum)\n"
      ],
      "metadata": {
        "colab": {
          "base_uri": "https://localhost:8080/"
        },
        "id": "utJl5Wq2qXdU",
        "outputId": "f72401cb-7786-4bc0-9edb-918ba22c27af"
      },
      "execution_count": 46,
      "outputs": [
        {
          "output_type": "stream",
          "name": "stdout",
          "text": [
            "\n",
            " add with broadcasting \t: [[2 3 4]\n",
            " [3 4 5]\n",
            " [4 5 6]]\n"
          ]
        }
      ]
    },
    {
      "cell_type": "code",
      "source": [
        "# Fancy Indexing\n",
        "fancy_indexed = array[[0, 2]]  # Access specific indices\n",
        "print('\\n access specific indices \\t:',fancy_indexed)"
      ],
      "metadata": {
        "colab": {
          "base_uri": "https://localhost:8080/"
        },
        "id": "o6mtCoicqn5S",
        "outputId": "57b6f12f-e1e7-43d3-eaa9-2c1c6625d5bb"
      },
      "execution_count": 48,
      "outputs": [
        {
          "output_type": "stream",
          "name": "stdout",
          "text": [
            "\n",
            " access specific indices \t: [1 3]\n"
          ]
        }
      ]
    },
    {
      "cell_type": "code",
      "source": [
        "\n",
        "# Linear Algebra\n",
        "matrix = np.array([[1, 2], [3, 4]])\n",
        "transpose = np.transpose(matrix)    # Transpose of the matrix\n",
        "inverse = np.linalg.inv(matrix)     # Inverse of the matrix\n",
        "determinant = np.linalg.det(matrix) # Determinant\n",
        "\n",
        "eigenvalues, eigenvectors = np.linalg.eig(matrix) # Eigenvalues and eigenvectors\n",
        "print('\\n matrix transpose\\n:',transpose)\n",
        "print('\\n inverse of matrix \\n:',inverse)\n",
        "print('\\n determinant \\n:',determinant)\n",
        "print('\\n eigenvalues \\t:',eigenvalues)\n",
        "print('\\n eigenvectors \\n:',eigenvectors)"
      ],
      "metadata": {
        "colab": {
          "base_uri": "https://localhost:8080/"
        },
        "id": "fARc8YG_q5Mj",
        "outputId": "e5e15fcd-560c-451d-ceb9-7507c8a44632"
      },
      "execution_count": 53,
      "outputs": [
        {
          "output_type": "stream",
          "name": "stdout",
          "text": [
            "\n",
            " matrix transpose\n",
            ": [[1 3]\n",
            " [2 4]]\n",
            "\n",
            " inverse of matrix \n",
            ": [[-2.   1. ]\n",
            " [ 1.5 -0.5]]\n",
            "\n",
            " determinant \n",
            ": -2.0000000000000004\n",
            "\n",
            " eigenvalues \t: [-0.37228132  5.37228132]\n",
            "\n",
            " eigenvectors \n",
            ": [[-0.82456484 -0.41597356]\n",
            " [ 0.56576746 -0.90937671]]\n"
          ]
        }
      ]
    },
    {
      "cell_type": "code",
      "source": [],
      "metadata": {
        "id": "6qabi2Xdrgh4"
      },
      "execution_count": null,
      "outputs": []
    }
  ]
}