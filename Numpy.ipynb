{
  "nbformat": 4,
  "nbformat_minor": 0,
  "metadata": {
    "colab": {
      "provenance": [],
      "authorship_tag": "ABX9TyOJ0D3+fIEqZXitAUGEnjgi",
      "include_colab_link": true
    },
    "kernelspec": {
      "name": "python3",
      "display_name": "Python 3"
    },
    "language_info": {
      "name": "python"
    }
  },
  "cells": [
    {
      "cell_type": "markdown",
      "metadata": {
        "id": "view-in-github",
        "colab_type": "text"
      },
      "source": [
        "<a href=\"https://colab.research.google.com/github/santoshtiwari41/Numpy-basic-to-advanced/blob/main/Numpy.ipynb\" target=\"_parent\"><img src=\"https://colab.research.google.com/assets/colab-badge.svg\" alt=\"Open In Colab\"/></a>"
      ]
    },
    {
      "cell_type": "code",
      "execution_count": 8,
      "metadata": {
        "id": "TJj7UWx9Q97z"
      },
      "outputs": [],
      "source": [
        "#Basic to Advanced Numpy\n",
        "\n",
        "# Importing Numpy\n",
        "import numpy as np"
      ]
    },
    {
      "cell_type": "code",
      "source": [
        "#Creating Arrays\n",
        "# 1D Array\n",
        "array_1d = np.array([1, 2, 3, 4])\n",
        "print(array_1d)\n"
      ],
      "metadata": {
        "colab": {
          "base_uri": "https://localhost:8080/"
        },
        "id": "daqx7xjLRZWH",
        "outputId": "dba5140b-8c78-4a76-bda9-03ae365eaf24"
      },
      "execution_count": 5,
      "outputs": [
        {
          "output_type": "stream",
          "name": "stdout",
          "text": [
            "[1 2 3 4]\n"
          ]
        }
      ]
    },
    {
      "cell_type": "code",
      "source": [
        "# 2D Array\n",
        "array_2d = np.array([[1, 2], [3, 4]])\n",
        "print(array_2d)\n",
        "array_2d\n"
      ],
      "metadata": {
        "colab": {
          "base_uri": "https://localhost:8080/"
        },
        "id": "J0A-yZAYRxDh",
        "outputId": "859ff0fb-2560-4c12-da48-91f92d926643"
      },
      "execution_count": 4,
      "outputs": [
        {
          "output_type": "stream",
          "name": "stdout",
          "text": [
            "[[1 2]\n",
            " [3 4]]\n"
          ]
        },
        {
          "output_type": "execute_result",
          "data": {
            "text/plain": [
              "array([[1, 2],\n",
              "       [3, 4]])"
            ]
          },
          "metadata": {},
          "execution_count": 4
        }
      ]
    },
    {
      "cell_type": "code",
      "source": [
        "# Array Attributes\n",
        "print(array_2d.shape)  # Shape of the array\n",
        "print(array_2d.ndim)   # Number of dimensions\n",
        "print(array_2d.size)   # Total number of elements\n",
        "print(array_2d.dtype)  # Data type of elements"
      ],
      "metadata": {
        "colab": {
          "base_uri": "https://localhost:8080/"
        },
        "id": "wycVTzfsR3CU",
        "outputId": "9afa866b-b4bd-484d-d9d1-de722d0872ea"
      },
      "execution_count": 6,
      "outputs": [
        {
          "output_type": "stream",
          "name": "stdout",
          "text": [
            "(2, 2)\n",
            "2\n",
            "4\n",
            "int64\n"
          ]
        }
      ]
    },
    {
      "cell_type": "code",
      "source": [
        "# Array Initialization\n",
        "zeros = np.zeros((2, 3))  # 2x3 array of zeros\n",
        "ones = np.ones((3, 3))    # 3x3 array of ones\n",
        "full = np.full((2, 2), 7) # 2x2 array filled with 7\n",
        "identity = np.eye(3)      # 3x3 Identity matrix\n",
        "arange = np.arange(0, 10, 2) # Array from 0 to 10 with step 2\n",
        "linspace = np.linspace(0, 1, 5) # 5 equally spaced points from 0 to 1\n",
        "print('\\n 2x3 array of zeros \\n',zeros)\n",
        "print('\\n 3x3 array of ones\\n',ones)\n",
        "print('\\n 2x2 array filled with 7\\n',full)\n",
        "print('\\n 3x3 Identity matrix\\n',identity)\n",
        "print('\\n Array from 0 to 10 with step 2\\n',arange)\n",
        "print('\\n 5 equally spaced points from 0 to 1\\n',linspace)\n"
      ],
      "metadata": {
        "colab": {
          "base_uri": "https://localhost:8080/"
        },
        "id": "BNOM-sWoSKuz",
        "outputId": "c23d9b77-4e53-42f8-a29a-da41159279e7"
      },
      "execution_count": 19,
      "outputs": [
        {
          "output_type": "stream",
          "name": "stdout",
          "text": [
            "\n",
            " 2x3 array of zeros \n",
            " [[0. 0. 0.]\n",
            " [0. 0. 0.]]\n",
            "\n",
            " 3x3 array of ones\n",
            " [[1. 1. 1.]\n",
            " [1. 1. 1.]\n",
            " [1. 1. 1.]]\n",
            "\n",
            " 2x2 array filled with 7\n",
            " [[7 7]\n",
            " [7 7]]\n",
            "\n",
            " 3x3 Identity matrix\n",
            " [[1. 0. 0.]\n",
            " [0. 1. 0.]\n",
            " [0. 0. 1.]]\n",
            "\n",
            " Array from 0 to 10 with step 2\n",
            " [0 2 4 6 8]\n",
            "\n",
            " 5 equally spaced points from 0 to 1\n",
            " [0.   0.25 0.5  0.75 1.  ]\n"
          ]
        }
      ]
    },
    {
      "cell_type": "code",
      "source": [
        "# Random Arrays\n",
        "random_uniform = np.random.rand(2, 3)  # Random values in [0, 1)\n",
        "random_normal = np.random.randn(2, 3)  # Random values from normal distribution\n",
        "random_int = np.random.randint(0, 10, (2, 2))  # Random integers in [0, 10)\n",
        "print('\\n Random values in [0, 1) \\n',random_uniform)\n",
        "print('\\n Random values from normal distribution \\n ',random_normal)\n",
        "print('\\n Random integers in [0, 10) \\n ',random_int)"
      ],
      "metadata": {
        "colab": {
          "base_uri": "https://localhost:8080/"
        },
        "id": "PV0VEucpSaDB",
        "outputId": "deb799aa-60d5-4a87-be4e-d853ca66b433"
      },
      "execution_count": 23,
      "outputs": [
        {
          "output_type": "stream",
          "name": "stdout",
          "text": [
            "\n",
            " Random values in [0, 1) \n",
            " [[0.38794305 0.40898888 0.41813967]\n",
            " [0.94469189 0.94397193 0.01225869]]\n",
            "\n",
            " Random values from normal distribution \n",
            "  [[ 1.92679082  1.1523416  -0.41684816]\n",
            " [-1.87744047 -0.68714032 -0.59717432]]\n",
            "\n",
            " Random integers in [0, 10) \n",
            "  [[1 9]\n",
            " [1 8]]\n"
          ]
        }
      ]
    },
    {
      "cell_type": "code",
      "source": [
        "# Reshaping Arrays\n",
        "print('\\n above 1d array \\n ',array_1d)\n",
        "reshaped = np.reshape(array_1d, (2, 2))  # Reshape to 2x2\n",
        "flattened = array_2d.flatten()  # Flatten 2D to 1D\n",
        "print('\\n reshape to 2x2 \\n ',reshaped)\n",
        "print('\\n flatten 2d to 1d \\n',flattened)"
      ],
      "metadata": {
        "colab": {
          "base_uri": "https://localhost:8080/"
        },
        "id": "TxYsaFozWC5n",
        "outputId": "49250c07-55ae-4e55-f0d2-86004902a4e3"
      },
      "execution_count": 26,
      "outputs": [
        {
          "output_type": "stream",
          "name": "stdout",
          "text": [
            "\n",
            " above 1d array \n",
            "  [1 2 3 4]\n",
            "\n",
            " reshape to 2x2 \n",
            "  [[1 2]\n",
            " [3 4]]\n",
            "\n",
            " flatten 2d to 1d \n",
            " [1 2 3 4]\n"
          ]
        }
      ]
    },
    {
      "cell_type": "code",
      "source": [],
      "metadata": {
        "id": "1DwMPYbEW4QJ"
      },
      "execution_count": null,
      "outputs": []
    }
  ]
}