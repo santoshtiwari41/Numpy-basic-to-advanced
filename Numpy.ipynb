{
  "nbformat": 4,
  "nbformat_minor": 0,
  "metadata": {
    "colab": {
      "provenance": [],
      "authorship_tag": "ABX9TyOEmxABIzqdgp2yhiXNMRe0",
      "include_colab_link": true
    },
    "kernelspec": {
      "name": "python3",
      "display_name": "Python 3"
    },
    "language_info": {
      "name": "python"
    }
  },
  "cells": [
    {
      "cell_type": "markdown",
      "metadata": {
        "id": "view-in-github",
        "colab_type": "text"
      },
      "source": [
        "<a href=\"https://colab.research.google.com/github/santoshtiwari41/Numpy-basic-to-advanced/blob/main/Numpy.ipynb\" target=\"_parent\"><img src=\"https://colab.research.google.com/assets/colab-badge.svg\" alt=\"Open In Colab\"/></a>"
      ]
    },
    {
      "cell_type": "code",
      "execution_count": 8,
      "metadata": {
        "id": "TJj7UWx9Q97z"
      },
      "outputs": [],
      "source": [
        "#Basic to Advanced Numpy\n",
        "\n",
        "# Importing Numpy\n",
        "import numpy as np"
      ]
    },
    {
      "cell_type": "code",
      "source": [
        "#Creating Arrays\n",
        "# 1D Array\n",
        "array_1d = np.array([1, 2, 3, 4])\n",
        "print(array_1d)\n"
      ],
      "metadata": {
        "colab": {
          "base_uri": "https://localhost:8080/"
        },
        "id": "daqx7xjLRZWH",
        "outputId": "dba5140b-8c78-4a76-bda9-03ae365eaf24"
      },
      "execution_count": 5,
      "outputs": [
        {
          "output_type": "stream",
          "name": "stdout",
          "text": [
            "[1 2 3 4]\n"
          ]
        }
      ]
    },
    {
      "cell_type": "code",
      "source": [
        "# 2D Array\n",
        "array_2d = np.array([[1, 2], [3, 4]])\n",
        "print(array_2d)\n",
        "array_2d\n"
      ],
      "metadata": {
        "colab": {
          "base_uri": "https://localhost:8080/"
        },
        "id": "J0A-yZAYRxDh",
        "outputId": "859ff0fb-2560-4c12-da48-91f92d926643"
      },
      "execution_count": 4,
      "outputs": [
        {
          "output_type": "stream",
          "name": "stdout",
          "text": [
            "[[1 2]\n",
            " [3 4]]\n"
          ]
        },
        {
          "output_type": "execute_result",
          "data": {
            "text/plain": [
              "array([[1, 2],\n",
              "       [3, 4]])"
            ]
          },
          "metadata": {},
          "execution_count": 4
        }
      ]
    },
    {
      "cell_type": "code",
      "source": [
        "# Array Attributes\n",
        "print(array_2d.shape)  # Shape of the array\n",
        "print(array_2d.ndim)   # Number of dimensions\n",
        "print(array_2d.size)   # Total number of elements\n",
        "print(array_2d.dtype)  # Data type of elements"
      ],
      "metadata": {
        "colab": {
          "base_uri": "https://localhost:8080/"
        },
        "id": "wycVTzfsR3CU",
        "outputId": "9afa866b-b4bd-484d-d9d1-de722d0872ea"
      },
      "execution_count": 6,
      "outputs": [
        {
          "output_type": "stream",
          "name": "stdout",
          "text": [
            "(2, 2)\n",
            "2\n",
            "4\n",
            "int64\n"
          ]
        }
      ]
    },
    {
      "cell_type": "code",
      "source": [
        "# Array Initialization\n",
        "zeros = np.zeros((2, 3))  # 2x3 array of zeros\n",
        "ones = np.ones((3, 3))    # 3x3 array of ones\n",
        "full = np.full((2, 2), 7) # 2x2 array filled with 7\n",
        "identity = np.eye(3)      # 3x3 Identity matrix\n",
        "arange = np.arange(0, 10, 2) # Array from 0 to 10 with step 2\n",
        "linspace = np.linspace(0, 1, 5) # 5 equally spaced points from 0 to 1\n",
        "print('\\n 2x3 array of zeros \\n',zeros)\n",
        "print('\\n 3x3 array of ones\\n',ones)\n",
        "print('\\n 2x2 array filled with 7\\n',full)\n",
        "print('\\n 3x3 Identity matrix\\n',identity)\n",
        "print('\\n Array from 0 to 10 with step 2\\n',arange)\n",
        "print('\\n 5 equally spaced points from 0 to 1\\n',linspace)\n"
      ],
      "metadata": {
        "colab": {
          "base_uri": "https://localhost:8080/"
        },
        "id": "BNOM-sWoSKuz",
        "outputId": "c23d9b77-4e53-42f8-a29a-da41159279e7"
      },
      "execution_count": 19,
      "outputs": [
        {
          "output_type": "stream",
          "name": "stdout",
          "text": [
            "\n",
            " 2x3 array of zeros \n",
            " [[0. 0. 0.]\n",
            " [0. 0. 0.]]\n",
            "\n",
            " 3x3 array of ones\n",
            " [[1. 1. 1.]\n",
            " [1. 1. 1.]\n",
            " [1. 1. 1.]]\n",
            "\n",
            " 2x2 array filled with 7\n",
            " [[7 7]\n",
            " [7 7]]\n",
            "\n",
            " 3x3 Identity matrix\n",
            " [[1. 0. 0.]\n",
            " [0. 1. 0.]\n",
            " [0. 0. 1.]]\n",
            "\n",
            " Array from 0 to 10 with step 2\n",
            " [0 2 4 6 8]\n",
            "\n",
            " 5 equally spaced points from 0 to 1\n",
            " [0.   0.25 0.5  0.75 1.  ]\n"
          ]
        }
      ]
    },
    {
      "cell_type": "code",
      "source": [
        "# Random Arrays\n",
        "random_uniform = np.random.rand(2, 3)  # Random values in [0, 1)\n",
        "random_normal = np.random.randn(2, 3)  # Random values from normal distribution\n",
        "random_int = np.random.randint(0, 10, (2, 2))  # Random integers in [0, 10)\n",
        "print('\\n Random values in [0, 1) \\n',random_uniform)\n",
        "print('\\n Random values from normal distribution \\n ',random_normal)\n",
        "print('\\n Random integers in [0, 10) \\n ',random_int)"
      ],
      "metadata": {
        "colab": {
          "base_uri": "https://localhost:8080/"
        },
        "id": "PV0VEucpSaDB",
        "outputId": "deb799aa-60d5-4a87-be4e-d853ca66b433"
      },
      "execution_count": 23,
      "outputs": [
        {
          "output_type": "stream",
          "name": "stdout",
          "text": [
            "\n",
            " Random values in [0, 1) \n",
            " [[0.38794305 0.40898888 0.41813967]\n",
            " [0.94469189 0.94397193 0.01225869]]\n",
            "\n",
            " Random values from normal distribution \n",
            "  [[ 1.92679082  1.1523416  -0.41684816]\n",
            " [-1.87744047 -0.68714032 -0.59717432]]\n",
            "\n",
            " Random integers in [0, 10) \n",
            "  [[1 9]\n",
            " [1 8]]\n"
          ]
        }
      ]
    },
    {
      "cell_type": "code",
      "source": [
        "# Reshaping Arrays\n",
        "print('\\n above 1d array \\n ',array_1d)\n",
        "reshaped = np.reshape(array_1d, (2, 2))  # Reshape to 2x2\n",
        "flattened = array_2d.flatten()  # Flatten 2D to 1D\n",
        "print('\\n reshape to 2x2 \\n ',reshaped)\n",
        "print('\\n flatten 2d to 1d \\n',flattened)"
      ],
      "metadata": {
        "colab": {
          "base_uri": "https://localhost:8080/"
        },
        "id": "TxYsaFozWC5n",
        "outputId": "49250c07-55ae-4e55-f0d2-86004902a4e3"
      },
      "execution_count": 26,
      "outputs": [
        {
          "output_type": "stream",
          "name": "stdout",
          "text": [
            "\n",
            " above 1d array \n",
            "  [1 2 3 4]\n",
            "\n",
            " reshape to 2x2 \n",
            "  [[1 2]\n",
            " [3 4]]\n",
            "\n",
            " flatten 2d to 1d \n",
            " [1 2 3 4]\n"
          ]
        }
      ]
    },
    {
      "cell_type": "code",
      "source": [
        "# Stacking Arrays\n",
        "vstack = np.vstack((array_1d, array_1d,array_1d))  # Vertical stack\n",
        "hstack = np.hstack((array_1d, array_1d))  # Horizontal stack\n",
        "print('\\n vertical stack \\n ',vstack)\n",
        "print('\\n horizontal stack \\n',hstack)\n"
      ],
      "metadata": {
        "colab": {
          "base_uri": "https://localhost:8080/"
        },
        "id": "1DwMPYbEW4QJ",
        "outputId": "f58676ae-f81c-4d71-d8b9-cb41cc3dba33"
      },
      "execution_count": 30,
      "outputs": [
        {
          "output_type": "stream",
          "name": "stdout",
          "text": [
            "\n",
            " vertical stack \n",
            "  [[1 2 3 4]\n",
            " [1 2 3 4]\n",
            " [1 2 3 4]]\n",
            "\n",
            " horizontal stack \n",
            " [1 2 3 4 1 2 3 4]\n"
          ]
        }
      ]
    },
    {
      "cell_type": "code",
      "source": [
        "# Splitting Arrays\n",
        "split = np.split(array_1d, 2)  # Split array into 2 parts\n",
        "print('\\n after split \\n',split)\n",
        "print('\\n new arrays are \\n ',split[0],'\\t and ',split[1])\n"
      ],
      "metadata": {
        "colab": {
          "base_uri": "https://localhost:8080/"
        },
        "id": "yoqS2hgblcoS",
        "outputId": "14832c9e-2e88-4efc-e79a-964b78bea8f9"
      },
      "execution_count": 38,
      "outputs": [
        {
          "output_type": "stream",
          "name": "stdout",
          "text": [
            "\n",
            " after split \n",
            " [array([1, 2]), array([3, 4])]\n",
            "\n",
            " new arrays are \n",
            "  [1 2] \t and  [3 4]\n"
          ]
        }
      ]
    },
    {
      "cell_type": "code",
      "source": [
        "# Mathematical Operations\n",
        "array = np.array([1, 2, 3, 4])\n",
        "sum_result = np.sum(array)   # Sum of all elements\n",
        "mean_result = np.mean(array) # Mean of elements\n",
        "max_result = np.max(array)   # Maximum value\n",
        "min_result = np.min(array)   # Minimum value\n",
        "std_dev = np.std(array)      # Standard deviation\n",
        "print('\\n sum \\t:',sum_result)\n",
        "print('\\n mean \\t:',mean_result)\n",
        "print('\\n max value \\t:',max_result)\n",
        "print('\\n min value \\t:',min_result)\n",
        "print('\\n standard deviation \\t:', std_dev)\n"
      ],
      "metadata": {
        "colab": {
          "base_uri": "https://localhost:8080/"
        },
        "id": "y0QCCaNAl2mV",
        "outputId": "04a396aa-6306-4508-c404-2f2c88e01e51"
      },
      "execution_count": 40,
      "outputs": [
        {
          "output_type": "stream",
          "name": "stdout",
          "text": [
            "\n",
            " sum \t: 10\n",
            "\n",
            " mean \t: 2.5\n",
            "\n",
            " max value \t: 4\n",
            "\n",
            " min value \t: 1\n",
            "\n",
            " standard deviation \t: 1.118033988749895\n"
          ]
        }
      ]
    },
    {
      "cell_type": "code",
      "source": [
        "# Element-wise Operations\n",
        "array1 = np.array([1, 2, 3])\n",
        "array2 = np.array([4, 5, 6])\n",
        "addition = array1 + array2      # Element-wise addition\n",
        "multiplication = array1 * array2 # Element-wise multiplication\n",
        "dot_product = np.dot(array1, array2) # Dot product\n",
        "print('\\n element wise addition \\t:',addition)\n",
        "print('\\n element wise multiplication \\t:',multiplication)\n",
        "print('\\n dot product \\t:',dot_product)\n"
      ],
      "metadata": {
        "colab": {
          "base_uri": "https://localhost:8080/"
        },
        "id": "dAI3v4zFnyz5",
        "outputId": "7e50ffee-f9c3-4118-8979-30b715957d4a"
      },
      "execution_count": 42,
      "outputs": [
        {
          "output_type": "stream",
          "name": "stdout",
          "text": [
            "\n",
            " element wise addition \t: [5 7 9]\n",
            "\n",
            " element wise multiplication \t: [ 4 10 18]\n",
            "\n",
            " dot product \t: 32\n"
          ]
        }
      ]
    },
    {
      "cell_type": "code",
      "source": [
        "# Boolean Operations\n",
        "bool_array = array > 2  # Element-wise comparison\n",
        "any_true = np.any(bool_array)  # Check if any element is True\n",
        "all_true = np.all(bool_array)  # Check if all elements are True\n",
        "\n",
        "print('\\n check if any element is true \\t:',any_true)\n",
        "print('\\n check if alll elements are true \\t:',all_true)"
      ],
      "metadata": {
        "colab": {
          "base_uri": "https://localhost:8080/"
        },
        "id": "wRY3PEYepiNq",
        "outputId": "e55d3fe1-6fa9-479e-df1d-3a453a1aa5a2"
      },
      "execution_count": 44,
      "outputs": [
        {
          "output_type": "stream",
          "name": "stdout",
          "text": [
            "\n",
            " check if any element is true \t: True\n",
            "\n",
            " check if alll elements are true \t: False\n"
          ]
        }
      ]
    },
    {
      "cell_type": "code",
      "source": [
        "# Broadcasting\n",
        "x = np.array([1, 2, 3])\n",
        "y = np.array([[1], [2], [3]])\n",
        "broadcasted_sum = x + y  # Add with broadcasting\n",
        "print('\\n add with broadcasting \\t:',broadcasted_sum)\n"
      ],
      "metadata": {
        "colab": {
          "base_uri": "https://localhost:8080/"
        },
        "id": "utJl5Wq2qXdU",
        "outputId": "f72401cb-7786-4bc0-9edb-918ba22c27af"
      },
      "execution_count": 46,
      "outputs": [
        {
          "output_type": "stream",
          "name": "stdout",
          "text": [
            "\n",
            " add with broadcasting \t: [[2 3 4]\n",
            " [3 4 5]\n",
            " [4 5 6]]\n"
          ]
        }
      ]
    },
    {
      "cell_type": "code",
      "source": [
        "# Fancy Indexing\n",
        "fancy_indexed = array[[0, 2]]  # Access specific indices\n",
        "print('\\n access specific indices \\t:',fancy_indexed)"
      ],
      "metadata": {
        "colab": {
          "base_uri": "https://localhost:8080/"
        },
        "id": "o6mtCoicqn5S",
        "outputId": "57b6f12f-e1e7-43d3-eaa9-2c1c6625d5bb"
      },
      "execution_count": 48,
      "outputs": [
        {
          "output_type": "stream",
          "name": "stdout",
          "text": [
            "\n",
            " access specific indices \t: [1 3]\n"
          ]
        }
      ]
    },
    {
      "cell_type": "code",
      "source": [
        "\n",
        "# Linear Algebra\n",
        "matrix = np.array([[1, 2], [3, 4]])\n",
        "transpose = np.transpose(matrix)    # Transpose of the matrix\n",
        "inverse = np.linalg.inv(matrix)     # Inverse of the matrix\n",
        "determinant = np.linalg.det(matrix) # Determinant\n",
        "\n",
        "eigenvalues, eigenvectors = np.linalg.eig(matrix) # Eigenvalues and eigenvectors\n",
        "print('\\n matrix transpose\\n:',transpose)\n",
        "print('\\n inverse of matrix \\n:',inverse)\n",
        "print('\\n determinant \\n:',determinant)\n",
        "print('\\n eigenvalues \\t:',eigenvalues)\n",
        "print('\\n eigenvectors \\n:',eigenvectors)"
      ],
      "metadata": {
        "colab": {
          "base_uri": "https://localhost:8080/"
        },
        "id": "fARc8YG_q5Mj",
        "outputId": "e5e15fcd-560c-451d-ceb9-7507c8a44632"
      },
      "execution_count": 53,
      "outputs": [
        {
          "output_type": "stream",
          "name": "stdout",
          "text": [
            "\n",
            " matrix transpose\n",
            ": [[1 3]\n",
            " [2 4]]\n",
            "\n",
            " inverse of matrix \n",
            ": [[-2.   1. ]\n",
            " [ 1.5 -0.5]]\n",
            "\n",
            " determinant \n",
            ": -2.0000000000000004\n",
            "\n",
            " eigenvalues \t: [-0.37228132  5.37228132]\n",
            "\n",
            " eigenvectors \n",
            ": [[-0.82456484 -0.41597356]\n",
            " [ 0.56576746 -0.90937671]]\n"
          ]
        }
      ]
    },
    {
      "cell_type": "code",
      "source": [
        "# Performance Optimization with Numba\n",
        "from numba import jit\n",
        "\n",
        "@jit\n",
        "def fast_function(x):\n",
        "    return np.sum(x ** 2)\n",
        "\n",
        "\n",
        "print(fast_function(np.array([4,2,3])))\n"
      ],
      "metadata": {
        "colab": {
          "base_uri": "https://localhost:8080/"
        },
        "id": "6qabi2Xdrgh4",
        "outputId": "d02cd5f3-2951-4b31-be27-119fc29b44e2"
      },
      "execution_count": 57,
      "outputs": [
        {
          "output_type": "stream",
          "name": "stdout",
          "text": [
            "29\n"
          ]
        }
      ]
    },
    {
      "cell_type": "code",
      "source": [
        "# -------------------------- MORE ADVANCED USAGE --------------------------\n"
      ],
      "metadata": {
        "id": "7KjCrtYtvxKy"
      },
      "execution_count": 58,
      "outputs": []
    },
    {
      "cell_type": "code",
      "source": [
        "# Structured Arrays\n",
        "structured_array = np.array([(1, 'santosh', 21), (2, 'nabin', 21)],\n",
        "                             dtype=[('id', 'i4'), ('name', 'U10'), ('age', 'i4')])\n",
        "print(structured_array['name'])  # Access 'name' field\n"
      ],
      "metadata": {
        "colab": {
          "base_uri": "https://localhost:8080/"
        },
        "id": "j6WitfIkwhTI",
        "outputId": "094455dc-d24c-4a52-cbfc-f3587136f1a2"
      },
      "execution_count": 60,
      "outputs": [
        {
          "output_type": "stream",
          "name": "stdout",
          "text": [
            "['santosh' 'nabin']\n"
          ]
        }
      ]
    },
    {
      "cell_type": "code",
      "source": [
        "# Advanced Linear Algebra\n",
        "matrix_a = np.array([[1, 2], [3, 4]])\n",
        "matrix_b = np.array([[5, 6], [7, 8]])\n",
        "\n",
        "matrix_multiplication = np.matmul(matrix_a, matrix_b)  # Matrix multiplication\n",
        "svd = np.linalg.svd(matrix_a)  # Singular Value Decomposition\n",
        "\n",
        "print('\\n matrix multiplication \\n:',matrix_multiplication)\n",
        "print('\\n singular value decomposition \\n:',svd)\n"
      ],
      "metadata": {
        "colab": {
          "base_uri": "https://localhost:8080/"
        },
        "id": "ZEquW9KiwpeK",
        "outputId": "0f2829b1-3e98-4d0b-f95a-ba1f08699ce1"
      },
      "execution_count": 63,
      "outputs": [
        {
          "output_type": "stream",
          "name": "stdout",
          "text": [
            "\n",
            " matrix multiplication \n",
            ": [[19 22]\n",
            " [43 50]]\n",
            "\n",
            " singular value decomposition \n",
            ": SVDResult(U=array([[-0.40455358, -0.9145143 ],\n",
            "       [-0.9145143 ,  0.40455358]]), S=array([5.4649857 , 0.36596619]), Vh=array([[-0.57604844, -0.81741556],\n",
            "       [ 0.81741556, -0.57604844]]))\n"
          ]
        }
      ]
    },
    {
      "cell_type": "code",
      "source": [
        "# Advanced Random Sampling\n",
        "random_choice = np.random.choice(array, size=3, replace=False)  # Random sampling without replacement\n",
        "print('\\n random smapling without replacement\\t:',random_choice)"
      ],
      "metadata": {
        "colab": {
          "base_uri": "https://localhost:8080/"
        },
        "id": "KstNma6yxSl4",
        "outputId": "81c821a2-5f1d-46ff-c06f-6b4616db2fa7"
      },
      "execution_count": 65,
      "outputs": [
        {
          "output_type": "stream",
          "name": "stdout",
          "text": [
            "\n",
            " random smapling without replacement\t: [4 2 3]\n"
          ]
        }
      ]
    },
    {
      "cell_type": "code",
      "source": [
        "# Advanced Broadcasting\n",
        "array3 = np.array([1, 2, 3])\n",
        "array4 = np.array([[1], [2], [3]])\n",
        "broadcasted_result = array3 * array4  # Multiply with broadcasting\n",
        "print('\\n multiply with broadcasting \\t',broadcasted_result)\n"
      ],
      "metadata": {
        "colab": {
          "base_uri": "https://localhost:8080/"
        },
        "id": "kWvckuZDynBS",
        "outputId": "9d229f5f-2cb5-4ae1-c895-6a6b75458989"
      },
      "execution_count": 66,
      "outputs": [
        {
          "output_type": "stream",
          "name": "stdout",
          "text": [
            "\n",
            " multiply with broadcasting \t [[1 2 3]\n",
            " [2 4 6]\n",
            " [3 6 9]]\n"
          ]
        }
      ]
    },
    {
      "cell_type": "code",
      "source": [
        "# Memory Management\n",
        "shared_memory = np.empty((1000, 1000), dtype=np.float64)\n",
        "np.copyto(shared_memory, np.random.rand(1000, 1000))  # Efficient copying\n"
      ],
      "metadata": {
        "id": "9uUvYg0Ly3OC"
      },
      "execution_count": 67,
      "outputs": []
    },
    {
      "cell_type": "code",
      "source": [
        "# Custom Universal Functions (ufuncs)\n",
        "def custom_function(x, y):\n",
        "    return x ** 2 + y ** 2\n",
        "\n",
        "custom_ufunc = np.frompyfunc(custom_function, 2, 1)\n",
        "result = custom_ufunc(array1, array2)\n",
        "print(result)\n"
      ],
      "metadata": {
        "colab": {
          "base_uri": "https://localhost:8080/"
        },
        "id": "PLfxmDAHy-oO",
        "outputId": "69888778-accf-4a8e-ba54-311f9807bec9"
      },
      "execution_count": 68,
      "outputs": [
        {
          "output_type": "stream",
          "name": "stdout",
          "text": [
            "[17 29 45]\n"
          ]
        }
      ]
    },
    {
      "cell_type": "code",
      "source": [
        "# Advanced Masking with np.where\n",
        "condition = array > 2\n",
        "conditional_result = np.where(condition, array, -1)  # Replace elements based on condition\n",
        "print('\\n replace elements based on codition \\n:',conditional_result)"
      ],
      "metadata": {
        "colab": {
          "base_uri": "https://localhost:8080/"
        },
        "id": "aKawPleBzJYx",
        "outputId": "224bcd23-a25b-4869-d3dd-0301acec2525"
      },
      "execution_count": 70,
      "outputs": [
        {
          "output_type": "stream",
          "name": "stdout",
          "text": [
            "\n",
            " replace elements based on codition \n",
            ": [-1 -1  3  4]\n"
          ]
        }
      ]
    },
    {
      "cell_type": "code",
      "source": [
        "# Multidimensional Indexing with np.ix_\n",
        "row_indices = np.array([0, 1])\n",
        "col_indices = np.array([1, 0])\n",
        "indexed_elements = matrix[np.ix_(row_indices, col_indices)]\n",
        "print('\\n multidimensonal indexing \\n:',indexed_elements)"
      ],
      "metadata": {
        "colab": {
          "base_uri": "https://localhost:8080/"
        },
        "id": "OXdemKPFzdPh",
        "outputId": "70f08d29-3d0a-42d7-d84d-eef1b3180365"
      },
      "execution_count": 72,
      "outputs": [
        {
          "output_type": "stream",
          "name": "stdout",
          "text": [
            "\n",
            " multidimensonal indexing \n",
            ": [[2 1]\n",
            " [4 3]]\n"
          ]
        }
      ]
    },
    {
      "cell_type": "code",
      "source": [
        "# High-Performance Computations\n",
        "large_array = np.random.rand(1000000)\n",
        "sum_large_array = np.sum(large_array)  # Efficient summation using optimized C backend\n",
        "print('\\nefficient summation using optimized c backend:',sum_large_array)"
      ],
      "metadata": {
        "colab": {
          "base_uri": "https://localhost:8080/"
        },
        "id": "VODrE5gfzq85",
        "outputId": "758a3b28-1cec-4bb6-d79d-cd998bf118a6"
      },
      "execution_count": 73,
      "outputs": [
        {
          "output_type": "stream",
          "name": "stdout",
          "text": [
            "\n",
            "efficient summation using optimized c backend: 499654.19446033216\n"
          ]
        }
      ]
    },
    {
      "cell_type": "code",
      "source": [
        "# Memory-Mapped Files\n",
        "mmap_array = np.memmap(\"large_file.dat\", dtype='float32', mode='w+', shape=(1000, 1000))\n",
        "mmap_array[:] = np.random.rand(1000, 1000)\n",
        "mmap_array.flush()  # Ensure changes are written to disk\n"
      ],
      "metadata": {
        "id": "zOVcIQVez0CO"
      },
      "execution_count": 74,
      "outputs": []
    },
    {
      "cell_type": "code",
      "source": [
        "# Advanced Sorting\n",
        "sorted_array = np.sort(array)  # Sort along an axis\n",
        "sorted_indices = np.argsort(array)  # Indices of sorted elements\n",
        "print('\\n indices of sorted elements \\n :',sorted_indices)"
      ],
      "metadata": {
        "colab": {
          "base_uri": "https://localhost:8080/"
        },
        "id": "Bg-0gFM1z6Bk",
        "outputId": "bde656a6-f123-4bbc-a1a6-fce1752abebe"
      },
      "execution_count": 75,
      "outputs": [
        {
          "output_type": "stream",
          "name": "stdout",
          "text": [
            "\n",
            " indices of sorted elements \n",
            " : [0 1 2 3]\n"
          ]
        }
      ]
    },
    {
      "cell_type": "code",
      "source": [
        "# Advanced Fourier Transforms\n",
        "from numpy.fft import fft, ifft\n",
        "signal = np.sin(np.linspace(0, 2 * np.pi, 100))\n",
        "signal_fft = fft(signal)  # Compute FFT\n",
        "signal_reconstructed = ifft(signal_fft)  # Inverse FFT\n",
        "print('\\n fft:',signal_fft)\n",
        "print('\\n inverse of fft \\n',signal_reconstructed)"
      ],
      "metadata": {
        "colab": {
          "base_uri": "https://localhost:8080/"
        },
        "id": "kkhvjmDF0Km0",
        "outputId": "de133acf-6c7e-4e4b-9bc5-cb4e731333b1"
      },
      "execution_count": 77,
      "outputs": [
        {
          "output_type": "stream",
          "name": "stdout",
          "text": [
            "\n",
            " fft: [-6.93889390e-17+0.00000000e+00j  1.56237833e+00-4.97156846e+01j\n",
            " -4.25850363e-02+6.76869769e-01j -3.57787605e-02+3.78499750e-01j\n",
            " -3.38833476e-02+2.68214314e-01j -3.30724162e-02+2.08811018e-01j\n",
            " -3.26479847e-02+1.71146729e-01j -3.23973043e-02+1.44937208e-01j\n",
            " -3.22366676e-02+1.25553531e-01j -3.21274678e-02+1.10583469e-01j\n",
            " -3.20498259e-02+9.86392214e-02j -3.19926363e-02+8.88629658e-02j\n",
            " -3.19492912e-02+8.06946984e-02j -3.19156560e-02+7.37527294e-02j\n",
            " -3.18890343e-02+6.77676474e-02j -3.18676064e-02+6.25436991e-02j\n",
            " -3.18501078e-02+5.79351310e-02j -3.18356374e-02+5.38311230e-02j\n",
            " -3.18235390e-02+5.01458735e-02j -3.18133256e-02+4.68118870e-02j\n",
            " -3.18046293e-02+4.37753167e-02j -3.17971683e-02+4.09926624e-02j\n",
            " -3.17907237e-02+3.84283836e-02j -3.17851234e-02+3.60531455e-02j\n",
            " -3.17802305e-02+3.38425081e-02j -3.17759351e-02+3.17759351e-02j\n",
            " -3.17721482e-02+2.98360331e-02j -3.17687971e-02+2.80079622e-02j\n",
            " -3.17658219e-02+2.62789733e-02j -3.17631731e-02+2.46380426e-02j\n",
            " -3.17608093e-02+2.30755787e-02j -3.17586957e-02+2.15831873e-02j\n",
            " -3.17568032e-02+2.01534801e-02j -3.17551069e-02+1.87799179e-02j\n",
            " -3.17535858e-02+1.74566815e-02j -3.17522219e-02+1.61785651e-02j\n",
            " -3.17509998e-02+1.49408864e-02j -3.17499064e-02+1.37394114e-02j\n",
            " -3.17489303e-02+1.25702908e-02j -3.17480619e-02+1.14300056e-02j\n",
            " -3.17472926e-02+1.03153207e-02j -3.17466154e-02+9.22324438e-03j\n",
            " -3.17460241e-02+8.15099360e-03j -3.17455135e-02+7.09596299e-03j\n",
            " -3.17450793e-02+6.05569774e-03j -3.17447177e-02+5.02786934e-03j\n",
            " -3.17444257e-02+4.01025357e-03j -3.17442010e-02+3.00071048e-03j\n",
            " -3.17440418e-02+1.99716583e-03j -3.17439468e-02+9.97593718e-04j\n",
            " -3.17439152e-02-3.46944695e-18j -3.17439468e-02-9.97593718e-04j\n",
            " -3.17440418e-02-1.99716583e-03j -3.17442010e-02-3.00071048e-03j\n",
            " -3.17444257e-02-4.01025357e-03j -3.17447177e-02-5.02786934e-03j\n",
            " -3.17450793e-02-6.05569774e-03j -3.17455135e-02-7.09596299e-03j\n",
            " -3.17460241e-02-8.15099360e-03j -3.17466154e-02-9.22324438e-03j\n",
            " -3.17472926e-02-1.03153207e-02j -3.17480619e-02-1.14300056e-02j\n",
            " -3.17489303e-02-1.25702908e-02j -3.17499064e-02-1.37394114e-02j\n",
            " -3.17509998e-02-1.49408864e-02j -3.17522219e-02-1.61785651e-02j\n",
            " -3.17535858e-02-1.74566815e-02j -3.17551069e-02-1.87799179e-02j\n",
            " -3.17568032e-02-2.01534801e-02j -3.17586957e-02-2.15831873e-02j\n",
            " -3.17608093e-02-2.30755787e-02j -3.17631731e-02-2.46380426e-02j\n",
            " -3.17658219e-02-2.62789733e-02j -3.17687971e-02-2.80079622e-02j\n",
            " -3.17721482e-02-2.98360331e-02j -3.17759351e-02-3.17759351e-02j\n",
            " -3.17802305e-02-3.38425081e-02j -3.17851234e-02-3.60531455e-02j\n",
            " -3.17907237e-02-3.84283836e-02j -3.17971683e-02-4.09926624e-02j\n",
            " -3.18046293e-02-4.37753167e-02j -3.18133256e-02-4.68118870e-02j\n",
            " -3.18235390e-02-5.01458735e-02j -3.18356374e-02-5.38311230e-02j\n",
            " -3.18501078e-02-5.79351310e-02j -3.18676064e-02-6.25436991e-02j\n",
            " -3.18890343e-02-6.77676474e-02j -3.19156560e-02-7.37527294e-02j\n",
            " -3.19492912e-02-8.06946984e-02j -3.19926363e-02-8.88629658e-02j\n",
            " -3.20498259e-02-9.86392214e-02j -3.21274678e-02-1.10583469e-01j\n",
            " -3.22366676e-02-1.25553531e-01j -3.23973043e-02-1.44937208e-01j\n",
            " -3.26479847e-02-1.71146729e-01j -3.30724162e-02-2.08811018e-01j\n",
            " -3.38833476e-02-2.68214314e-01j -3.57787605e-02-3.78499750e-01j\n",
            " -4.25850363e-02-6.76869769e-01j  1.56237833e+00+4.97156846e+01j]\n",
            "\n",
            " inverse of fft \n",
            " [ 2.22044605e-18+8.46892001e-17j  6.34239197e-02+6.17214613e-17j\n",
            "  1.26592454e-01+1.52135249e-16j  1.89251244e-01-1.27363398e-16j\n",
            "  2.51147987e-01+1.17108578e-17j  3.12033446e-01-1.24059144e-17j\n",
            "  3.71662456e-01+1.56664729e-16j  4.29794912e-01+2.16370445e-17j\n",
            "  4.86196736e-01+3.82126204e-17j  5.40640817e-01+2.13642601e-16j\n",
            "  5.92907929e-01-7.87716208e-17j  6.42787610e-01+1.76161683e-16j\n",
            "  6.90079011e-01+3.57327049e-17j  7.34591709e-01+7.06028257e-20j\n",
            "  7.76146464e-01+1.16171184e-17j  8.14575952e-01-8.83248760e-18j\n",
            "  8.49725430e-01-7.59362660e-18j  8.81453363e-01+7.74974681e-17j\n",
            "  9.09631995e-01-2.44927910e-17j  9.34147860e-01+1.20300262e-16j\n",
            "  9.54902241e-01+5.24720066e-17j  9.71811568e-01+2.02263742e-17j\n",
            "  9.84807753e-01-1.06876165e-18j  9.93838464e-01-4.26692550e-17j\n",
            "  9.98867339e-01+8.98522433e-17j  9.99874128e-01+9.99513784e-17j\n",
            "  9.96854776e-01+4.98281590e-17j  9.89821442e-01+1.46863171e-16j\n",
            "  9.78802446e-01-3.96120734e-17j  9.63842159e-01+8.52307508e-17j\n",
            "  9.45000819e-01-1.25017094e-16j  9.22354294e-01-6.62175721e-17j\n",
            "  8.95993774e-01+8.81445248e-17j  8.66025404e-01-3.30065457e-17j\n",
            "  8.32569855e-01-4.23483252e-17j  7.95761841e-01+2.41067647e-17j\n",
            "  7.55749574e-01-1.77763268e-17j  7.12694171e-01-3.59607329e-17j\n",
            "  6.66769001e-01-4.14039950e-17j  6.18158986e-01-1.23831839e-16j\n",
            "  5.67059864e-01-1.91883693e-17j  5.13677392e-01-2.03172905e-16j\n",
            "  4.58226522e-01-1.07463021e-16j  4.00930535e-01-3.75795077e-17j\n",
            "  3.42020143e-01+3.80064411e-17j  2.81732557e-01+2.44214249e-17j\n",
            "  2.20310533e-01-1.50698226e-16j  1.58001396e-01-2.69733343e-17j\n",
            "  9.50560433e-02-4.92311000e-17j  3.17279335e-02-2.25088656e-16j\n",
            " -3.17279335e-02-1.29846243e-18j -9.50560433e-02-1.15688274e-16j\n",
            " -1.58001396e-01-6.89474251e-18j -2.20310533e-01+1.19430867e-17j\n",
            " -2.81732557e-01-7.98409703e-17j -3.42020143e-01+1.41903507e-17j\n",
            " -4.00930535e-01-8.75487772e-17j -4.58226522e-01-5.14674483e-18j\n",
            " -5.13677392e-01-1.09628292e-16j -5.67059864e-01-2.24501377e-16j\n",
            " -6.18158986e-01-5.31671025e-17j -6.66769001e-01-1.33837560e-16j\n",
            " -7.12694171e-01-1.80668850e-16j -7.55749574e-01+7.59853157e-17j\n",
            " -7.95761841e-01-2.83933399e-17j -8.32569855e-01-5.23018347e-17j\n",
            " -8.66025404e-01-7.46745172e-17j -8.95993774e-01-1.06279103e-16j\n",
            " -9.22354294e-01+1.01874838e-16j -9.45000819e-01-6.97591782e-17j\n",
            " -9.63842159e-01+8.01190761e-17j -9.78802446e-01-3.31004449e-17j\n",
            " -9.89821442e-01+9.44702023e-17j -9.96854776e-01+3.00075347e-17j\n",
            " -9.99874128e-01+3.68833795e-18j -9.98867339e-01-2.70380673e-18j\n",
            " -9.93838464e-01+4.42760975e-18j -9.84807753e-01-1.19182308e-16j\n",
            " -9.71811568e-01-1.34283659e-17j -9.54902241e-01-1.46137087e-16j\n",
            " -9.34147860e-01+5.88800489e-17j -9.09631995e-01+4.74162286e-17j\n",
            " -8.81453363e-01-9.59079793e-17j -8.49725430e-01-1.94675701e-17j\n",
            " -8.14575952e-01-1.02581949e-16j -7.76146464e-01-1.32796856e-16j\n",
            " -7.34591709e-01+2.84292315e-18j -6.90079011e-01+9.09962038e-18j\n",
            " -6.42787610e-01+5.37765322e-17j -5.92907929e-01+1.76009066e-16j\n",
            " -5.40640817e-01+1.14413110e-17j -4.86196736e-01+2.56294765e-16j\n",
            " -4.29794912e-01+2.54975436e-17j -3.71662456e-01+1.42606223e-16j\n",
            " -3.12033446e-01+9.28049346e-17j -2.51147987e-01+3.45479282e-17j\n",
            " -1.89251244e-01+1.12156351e-16j -1.26592454e-01+3.45171209e-17j\n",
            " -6.34239197e-02+8.59183922e-17j -1.77635684e-16+2.01290789e-16j]\n"
          ]
        }
      ]
    },
    {
      "cell_type": "code",
      "source": [
        "# Parallel Processing with Numpy\n",
        "from multiprocessing import Pool\n",
        "\n",
        "def parallel_sum(arr):\n",
        "    return np.sum(arr)\n",
        "\n",
        "if __name__ == \"__main__\":\n",
        "    data = np.random.rand(1000000).reshape(100, 10000)\n",
        "    with Pool(4) as p:\n",
        "        results = p.map(parallel_sum, [data[i] for i in range(data.shape[0])])\n",
        "    print(f\"Parallel Sum: {np.sum(results)}\")\n"
      ],
      "metadata": {
        "colab": {
          "base_uri": "https://localhost:8080/"
        },
        "id": "HMS2GIQd0akx",
        "outputId": "5b80a9da-6d45-462c-c1d4-da6f322f3d4c"
      },
      "execution_count": 78,
      "outputs": [
        {
          "output_type": "stream",
          "name": "stdout",
          "text": [
            "Parallel Sum: 499626.6078994466\n"
          ]
        }
      ]
    },
    {
      "cell_type": "code",
      "source": [],
      "metadata": {
        "id": "zryvxcoj0ldD"
      },
      "execution_count": null,
      "outputs": []
    }
  ]
}